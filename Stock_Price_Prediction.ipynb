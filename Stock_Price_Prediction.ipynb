{
  "nbformat": 4,
  "nbformat_minor": 0,
  "metadata": {
    "colab": {
      "provenance": []
    },
    "kernelspec": {
      "name": "python3",
      "display_name": "Python 3"
    },
    "language_info": {
      "name": "python"
    }
  },
  "cells": [
    {
      "cell_type": "markdown",
      "source": [
        "## Mount Google drive and upload Code to GitHub repository with version control"
      ],
      "metadata": {
        "id": "sOEg1DLiQjhE"
      }
    },
    {
      "cell_type": "code",
      "source": [
        "\n",
        "from google.colab import drive\n",
        "\n",
        "#Mount Google Drive\n",
        "drive.mount('/content/drive')\n"
      ],
      "metadata": {
        "colab": {
          "base_uri": "https://localhost:8080/"
        },
        "id": "LYus2oszQ8QG",
        "outputId": "9bea1964-5b65-4b48-b63e-c729d94a894f"
      },
      "execution_count": 1,
      "outputs": [
        {
          "output_type": "stream",
          "name": "stdout",
          "text": [
            "Mounted at /content/drive\n"
          ]
        }
      ]
    },
    {
      "cell_type": "markdown",
      "source": [
        "## Install required libraries\n",
        "Install yfinance using pip to retrieve a wide range of historical stock data from yahoo finance.\n",
        "\n"
      ],
      "metadata": {
        "id": "t6Qo2m3Hs1j9"
      }
    },
    {
      "cell_type": "code",
      "source": [
        "# Install yfinance\n",
        "!pip install yfinance\n",
        "\n"
      ],
      "metadata": {
        "id": "KeV16-Hq7sXg",
        "colab": {
          "base_uri": "https://localhost:8080/"
        },
        "outputId": "7abf95ee-ae80-494e-b42f-94f368eb8b8f"
      },
      "execution_count": 2,
      "outputs": [
        {
          "output_type": "stream",
          "name": "stdout",
          "text": [
            "Requirement already satisfied: yfinance in /usr/local/lib/python3.10/dist-packages (0.2.40)\n",
            "Requirement already satisfied: pandas>=1.3.0 in /usr/local/lib/python3.10/dist-packages (from yfinance) (2.0.3)\n",
            "Requirement already satisfied: numpy>=1.16.5 in /usr/local/lib/python3.10/dist-packages (from yfinance) (1.25.2)\n",
            "Requirement already satisfied: requests>=2.31 in /usr/local/lib/python3.10/dist-packages (from yfinance) (2.31.0)\n",
            "Requirement already satisfied: multitasking>=0.0.7 in /usr/local/lib/python3.10/dist-packages (from yfinance) (0.0.11)\n",
            "Requirement already satisfied: lxml>=4.9.1 in /usr/local/lib/python3.10/dist-packages (from yfinance) (4.9.4)\n",
            "Requirement already satisfied: platformdirs>=2.0.0 in /usr/local/lib/python3.10/dist-packages (from yfinance) (4.2.2)\n",
            "Requirement already satisfied: pytz>=2022.5 in /usr/local/lib/python3.10/dist-packages (from yfinance) (2023.4)\n",
            "Requirement already satisfied: frozendict>=2.3.4 in /usr/local/lib/python3.10/dist-packages (from yfinance) (2.4.4)\n",
            "Requirement already satisfied: peewee>=3.16.2 in /usr/local/lib/python3.10/dist-packages (from yfinance) (3.17.5)\n",
            "Requirement already satisfied: beautifulsoup4>=4.11.1 in /usr/local/lib/python3.10/dist-packages (from yfinance) (4.12.3)\n",
            "Requirement already satisfied: html5lib>=1.1 in /usr/local/lib/python3.10/dist-packages (from yfinance) (1.1)\n",
            "Requirement already satisfied: soupsieve>1.2 in /usr/local/lib/python3.10/dist-packages (from beautifulsoup4>=4.11.1->yfinance) (2.5)\n",
            "Requirement already satisfied: six>=1.9 in /usr/local/lib/python3.10/dist-packages (from html5lib>=1.1->yfinance) (1.16.0)\n",
            "Requirement already satisfied: webencodings in /usr/local/lib/python3.10/dist-packages (from html5lib>=1.1->yfinance) (0.5.1)\n",
            "Requirement already satisfied: python-dateutil>=2.8.2 in /usr/local/lib/python3.10/dist-packages (from pandas>=1.3.0->yfinance) (2.8.2)\n",
            "Requirement already satisfied: tzdata>=2022.1 in /usr/local/lib/python3.10/dist-packages (from pandas>=1.3.0->yfinance) (2024.1)\n",
            "Requirement already satisfied: charset-normalizer<4,>=2 in /usr/local/lib/python3.10/dist-packages (from requests>=2.31->yfinance) (3.3.2)\n",
            "Requirement already satisfied: idna<4,>=2.5 in /usr/local/lib/python3.10/dist-packages (from requests>=2.31->yfinance) (3.7)\n",
            "Requirement already satisfied: urllib3<3,>=1.21.1 in /usr/local/lib/python3.10/dist-packages (from requests>=2.31->yfinance) (2.0.7)\n",
            "Requirement already satisfied: certifi>=2017.4.17 in /usr/local/lib/python3.10/dist-packages (from requests>=2.31->yfinance) (2024.6.2)\n"
          ]
        }
      ]
    },
    {
      "cell_type": "markdown",
      "source": [
        "## Import necessary libraries"
      ],
      "metadata": {
        "id": "F1pu3jw398Tx"
      }
    },
    {
      "cell_type": "code",
      "source": [
        "import yfinance as yf\n",
        "import pandas as pd\n",
        "import os"
      ],
      "metadata": {
        "id": "HydzRkyB6wIh"
      },
      "execution_count": 8,
      "outputs": []
    },
    {
      "cell_type": "markdown",
      "source": [
        "## Function to download historica stock data"
      ],
      "metadata": {
        "id": "VVR1kcUF-Tnj"
      }
    },
    {
      "cell_type": "code",
      "source": [
        "def historical_data(tickers, start_date, end_date,\n",
        "                    output_dir='historical_data'):\n",
        "    \"\"\"\n",
        "    Downloads historical stock data for multiple ticker symbols and saves\n",
        "    to CSV files.\n",
        "\n",
        "    Parameters:\n",
        "    - tickers (list): Ticker symbols to download.\n",
        "    - start_date (str): Start date for data in 'YYYY-MM-DD' format.\n",
        "    - end_date (str): End date for data in 'YYYY-MM-DD' format.\n",
        "    - output_dir (str): Directory to save CSV files.\n",
        "\n",
        "    Returns:\n",
        "    - None. Saves CSV files in the specified directory.\n",
        "    \"\"\"\n",
        "    # Create directory\n",
        "    os.makedirs(output_dir, exist_ok=True)\n",
        "\n",
        "    # Iterate over list of tickers\n",
        "    for ticker in tickers:\n",
        "        print(f'Downloading data for {ticker}...')\n",
        "        try:\n",
        "            # Download data using yfinance\n",
        "            data = yf.download(ticker, start=start_date, end=end_date)\n",
        "\n",
        "            if not data.empty:\n",
        "                # Define file path\n",
        "                file_path = os.path.join(output_dir,\n",
        "                                         f'{ticker}_historical_data.csv')\n",
        "                # Save data to CSV\n",
        "                data.to_csv(file_path)\n",
        "                print(f'Data for {ticker} saved to {file_path}')\n",
        "            else:\n",
        "                print(f'No data found for {ticker}')\n",
        "        except Exception as e:\n",
        "            print(f'Error downloading data for {ticker}: {e}')\n",
        "\n",
        "    return\n",
        "\n"
      ],
      "metadata": {
        "id": "piCP7Csl-LpU"
      },
      "execution_count": 4,
      "outputs": []
    },
    {
      "cell_type": "markdown",
      "source": [
        "## Define tickers , dates , output directory"
      ],
      "metadata": {
        "id": "UmB2zE3b_gZG"
      }
    },
    {
      "cell_type": "code",
      "source": [
        "# List tickers to download data\n",
        "tickers = ['BATS.L', 'LAND.L', 'SVT.L', 'GLEN.L', 'RR.L', 'RTO.L', 'SGE.L',\n",
        "           'CCH.L', 'PHNX.L', 'SN.L']\n",
        "\n",
        "# Indicate start and end date for historical data\n",
        "start_date = '2013-1-1'\n",
        "end_date = '2023-12-31'\n",
        "\n",
        "# Save CSV to directory\n",
        "output_dir = 'FTSE100_historical_data'\n",
        "\n",
        "# Print current working directory\n",
        "print(\"Current Working Directory:\", os.getcwd())\n",
        "\n",
        "# Call the function\n",
        "historical_data(tickers, start_date, end_date, output_dir)\n"
      ],
      "metadata": {
        "colab": {
          "base_uri": "https://localhost:8080/"
        },
        "id": "4cZQaeT9_ps9",
        "outputId": "22d6cdbd-17b0-4a36-f0fa-440866e3fff2"
      },
      "execution_count": 9,
      "outputs": [
        {
          "output_type": "stream",
          "name": "stdout",
          "text": [
            "Current Working Directory: /content\n",
            "Downloading data for BATS.L...\n"
          ]
        },
        {
          "output_type": "stream",
          "name": "stderr",
          "text": [
            "\r[*********************100%%**********************]  1 of 1 completed\n"
          ]
        },
        {
          "output_type": "stream",
          "name": "stdout",
          "text": [
            "Data for BATS.L saved to FTSE100_historical_data/BATS.L_historical_data.csv\n",
            "Downloading data for LAND.L...\n"
          ]
        },
        {
          "output_type": "stream",
          "name": "stderr",
          "text": [
            "\r[*********************100%%**********************]  1 of 1 completed\n"
          ]
        },
        {
          "output_type": "stream",
          "name": "stdout",
          "text": [
            "Data for LAND.L saved to FTSE100_historical_data/LAND.L_historical_data.csv\n",
            "Downloading data for SVT.L...\n"
          ]
        },
        {
          "output_type": "stream",
          "name": "stderr",
          "text": [
            "\r[*********************100%%**********************]  1 of 1 completed\n"
          ]
        },
        {
          "output_type": "stream",
          "name": "stdout",
          "text": [
            "Data for SVT.L saved to FTSE100_historical_data/SVT.L_historical_data.csv\n",
            "Downloading data for GLEN.L...\n"
          ]
        },
        {
          "output_type": "stream",
          "name": "stderr",
          "text": [
            "\r[*********************100%%**********************]  1 of 1 completed\n"
          ]
        },
        {
          "output_type": "stream",
          "name": "stdout",
          "text": [
            "Data for GLEN.L saved to FTSE100_historical_data/GLEN.L_historical_data.csv\n",
            "Downloading data for RR.L...\n"
          ]
        },
        {
          "output_type": "stream",
          "name": "stderr",
          "text": [
            "\r[*********************100%%**********************]  1 of 1 completed\n"
          ]
        },
        {
          "output_type": "stream",
          "name": "stdout",
          "text": [
            "Data for RR.L saved to FTSE100_historical_data/RR.L_historical_data.csv\n",
            "Downloading data for RTO.L...\n"
          ]
        },
        {
          "output_type": "stream",
          "name": "stderr",
          "text": [
            "\r[*********************100%%**********************]  1 of 1 completed\n"
          ]
        },
        {
          "output_type": "stream",
          "name": "stdout",
          "text": [
            "Data for RTO.L saved to FTSE100_historical_data/RTO.L_historical_data.csv\n",
            "Downloading data for SGE.L...\n"
          ]
        },
        {
          "output_type": "stream",
          "name": "stderr",
          "text": [
            "[*********************100%%**********************]  1 of 1 completed\n",
            "[*********************100%%**********************]  1 of 1 completed"
          ]
        },
        {
          "output_type": "stream",
          "name": "stdout",
          "text": [
            "Data for SGE.L saved to FTSE100_historical_data/SGE.L_historical_data.csv\n",
            "Downloading data for CCH.L...\n"
          ]
        },
        {
          "output_type": "stream",
          "name": "stderr",
          "text": [
            "\n"
          ]
        },
        {
          "output_type": "stream",
          "name": "stdout",
          "text": [
            "Data for CCH.L saved to FTSE100_historical_data/CCH.L_historical_data.csv\n",
            "Downloading data for PHNX.L...\n"
          ]
        },
        {
          "output_type": "stream",
          "name": "stderr",
          "text": [
            "\r[*********************100%%**********************]  1 of 1 completed\n"
          ]
        },
        {
          "output_type": "stream",
          "name": "stdout",
          "text": [
            "Data for PHNX.L saved to FTSE100_historical_data/PHNX.L_historical_data.csv\n",
            "Downloading data for SN.L...\n"
          ]
        },
        {
          "output_type": "stream",
          "name": "stderr",
          "text": [
            "\r[*********************100%%**********************]  1 of 1 completed"
          ]
        },
        {
          "output_type": "stream",
          "name": "stdout",
          "text": [
            "Data for SN.L saved to FTSE100_historical_data/SN.L_historical_data.csv\n"
          ]
        },
        {
          "output_type": "stream",
          "name": "stderr",
          "text": [
            "\n"
          ]
        }
      ]
    },
    {
      "cell_type": "markdown",
      "source": [
        "## Print working directory and call the function"
      ],
      "metadata": {
        "id": "cxX-ffylAPKB"
      }
    },
    {
      "cell_type": "code",
      "source": [
        "# Print current working directory\n",
        "print(\"Current Working Directory:\", os.getcwd())\n",
        "\n",
        "# Call the function\n",
        "historical_data(tickers, start_date, end_date, output_dir)\n"
      ],
      "metadata": {
        "colab": {
          "base_uri": "https://localhost:8080/"
        },
        "id": "cZBliE6gAVRY",
        "outputId": "558183f9-6153-4f9a-9910-9c13ac8971dc"
      },
      "execution_count": 10,
      "outputs": [
        {
          "output_type": "stream",
          "name": "stdout",
          "text": [
            "Current Working Directory: /content\n",
            "Downloading data for BATS.L...\n"
          ]
        },
        {
          "output_type": "stream",
          "name": "stderr",
          "text": [
            "[*********************100%%**********************]  1 of 1 completed\n",
            "[*********************100%%**********************]  1 of 1 completed\n"
          ]
        },
        {
          "output_type": "stream",
          "name": "stdout",
          "text": [
            "Data for BATS.L saved to FTSE100_historical_data/BATS.L_historical_data.csv\n",
            "Downloading data for LAND.L...\n",
            "Data for LAND.L saved to FTSE100_historical_data/LAND.L_historical_data.csv\n",
            "Downloading data for SVT.L...\n"
          ]
        },
        {
          "output_type": "stream",
          "name": "stderr",
          "text": [
            "[*********************100%%**********************]  1 of 1 completed\n",
            "[*********************100%%**********************]  1 of 1 completed\n"
          ]
        },
        {
          "output_type": "stream",
          "name": "stdout",
          "text": [
            "Data for SVT.L saved to FTSE100_historical_data/SVT.L_historical_data.csv\n",
            "Downloading data for GLEN.L...\n",
            "Data for GLEN.L saved to FTSE100_historical_data/GLEN.L_historical_data.csv\n",
            "Downloading data for RR.L...\n"
          ]
        },
        {
          "output_type": "stream",
          "name": "stderr",
          "text": [
            "[*********************100%%**********************]  1 of 1 completed\n",
            "[*********************100%%**********************]  1 of 1 completed\n",
            "[*********************100%%**********************]  1 of 1 completed"
          ]
        },
        {
          "output_type": "stream",
          "name": "stdout",
          "text": [
            "Data for RR.L saved to FTSE100_historical_data/RR.L_historical_data.csv\n",
            "Downloading data for RTO.L...\n",
            "Data for RTO.L saved to FTSE100_historical_data/RTO.L_historical_data.csv\n",
            "Downloading data for SGE.L...\n"
          ]
        },
        {
          "output_type": "stream",
          "name": "stderr",
          "text": [
            "\n",
            "[*********************100%%**********************]  1 of 1 completed\n",
            "[*********************100%%**********************]  1 of 1 completed\n"
          ]
        },
        {
          "output_type": "stream",
          "name": "stdout",
          "text": [
            "Data for SGE.L saved to FTSE100_historical_data/SGE.L_historical_data.csv\n",
            "Downloading data for CCH.L...\n",
            "Data for CCH.L saved to FTSE100_historical_data/CCH.L_historical_data.csv\n",
            "Downloading data for PHNX.L...\n",
            "Data for PHNX.L saved to FTSE100_historical_data/PHNX.L_historical_data.csv\n",
            "Downloading data for SN.L...\n"
          ]
        },
        {
          "output_type": "stream",
          "name": "stderr",
          "text": [
            "\r[*********************100%%**********************]  1 of 1 completed\n"
          ]
        },
        {
          "output_type": "stream",
          "name": "stdout",
          "text": [
            "Data for SN.L saved to FTSE100_historical_data/SN.L_historical_data.csv\n"
          ]
        }
      ]
    },
    {
      "cell_type": "markdown",
      "source": [],
      "metadata": {
        "id": "3nRau36__f0b"
      }
    },
    {
      "cell_type": "markdown",
      "source": [],
      "metadata": {
        "id": "EWyzO4IX_e_E"
      }
    },
    {
      "cell_type": "markdown",
      "source": [],
      "metadata": {
        "id": "b4hVHIBVsrSi"
      }
    }
  ]
}